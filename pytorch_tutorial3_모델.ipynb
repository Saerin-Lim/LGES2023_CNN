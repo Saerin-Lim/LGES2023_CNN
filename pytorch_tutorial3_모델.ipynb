{
 "cells": [
  {
   "cell_type": "code",
   "execution_count": 1,
   "metadata": {},
   "outputs": [
    {
     "name": "stderr",
     "output_type": "stream",
     "text": [
      "c:\\Users\\korea\\anaconda3\\envs\\py39\\lib\\site-packages\\tqdm\\auto.py:22: TqdmWarning: IProgress not found. Please update jupyter and ipywidgets. See https://ipywidgets.readthedocs.io/en/stable/user_install.html\n",
      "  from .autonotebook import tqdm as notebook_tqdm\n"
     ]
    }
   ],
   "source": [
    "import torch\n",
    "import warnings\n",
    "import torch.nn as nn\n",
    "\n",
    "warnings.filterwarnings(action='ignore')"
   ]
  },
  {
   "cell_type": "code",
   "execution_count": 2,
   "metadata": {},
   "outputs": [],
   "source": [
    "# !pip install torchsummary\n",
    "from torchsummary import summary"
   ]
  },
  {
   "attachments": {},
   "cell_type": "markdown",
   "metadata": {},
   "source": [
    "#### Layer종류 & Block화"
   ]
  },
  {
   "cell_type": "code",
   "execution_count": 3,
   "metadata": {},
   "outputs": [
    {
     "name": "stdout",
     "output_type": "stream",
     "text": [
      "torch.Size([32, 1])\n"
     ]
    }
   ],
   "source": [
    "# linear layer\n",
    "x = torch.randn(32,10) # Batch,Features\n",
    "linear_layer = nn.Linear(in_features=10, out_features=1)\n",
    "print(linear_layer(x).shape)"
   ]
  },
  {
   "cell_type": "code",
   "execution_count": 4,
   "metadata": {},
   "outputs": [
    {
     "name": "stdout",
     "output_type": "stream",
     "text": [
      "torch.Size([32, 16, 32, 32])\n"
     ]
    }
   ],
   "source": [
    "# convolution layer\n",
    "imgs = torch.randn(32,3,64,64)\n",
    "conv_layer = nn.Conv2d(in_channels=3, out_channels=16, kernel_size=(2,2), stride=(2,2))\n",
    "print(conv_layer(imgs).shape)"
   ]
  },
  {
   "cell_type": "code",
   "execution_count": 5,
   "metadata": {},
   "outputs": [
    {
     "name": "stdout",
     "output_type": "stream",
     "text": [
      "torch.Size([1, 2]) tensor([[-1.,  1.]]) tensor([[0., 1.]])\n"
     ]
    }
   ],
   "source": [
    "# activation functions\n",
    "x = torch.FloatTensor([[-1,1]])\n",
    "relu = nn.ReLU(inplace=False)\n",
    "sigmoid = nn.Sigmoid()\n",
    "tanh = nn.Tanh()\n",
    "print(x.shape, x, relu(x))"
   ]
  },
  {
   "cell_type": "code",
   "execution_count": 6,
   "metadata": {},
   "outputs": [
    {
     "name": "stdout",
     "output_type": "stream",
     "text": [
      "tensor([[-1.,  1.,  2.,  6.]]) tensor([[1., 6.]]) tensor([[0., 4.]])\n"
     ]
    }
   ],
   "source": [
    "# 1D-pooling layer\n",
    "x = torch.FloatTensor([[-1,1,2,6]])\n",
    "maxpool = nn.MaxPool1d(kernel_size=2,stride=2)\n",
    "avgpool = nn.AvgPool1d(kernel_size=2,stride=2)\n",
    "print(x, maxpool(x), avgpool(x))"
   ]
  },
  {
   "cell_type": "code",
   "execution_count": 7,
   "metadata": {},
   "outputs": [
    {
     "name": "stdout",
     "output_type": "stream",
     "text": [
      "torch.Size([32, 3, 32, 32])\n"
     ]
    }
   ],
   "source": [
    "# 2D-pooling layer\n",
    "imgs = torch.randn(32,3,64,64)\n",
    "maxpool = nn.MaxPool2d(kernel_size=(2,2),stride=(2,2))\n",
    "avgpool = nn.AvgPool2d(kernel_size=(2,2),stride=(2,2))\n",
    "print(maxpool(imgs).shape, )"
   ]
  },
  {
   "cell_type": "code",
   "execution_count": 8,
   "metadata": {},
   "outputs": [
    {
     "name": "stdout",
     "output_type": "stream",
     "text": [
      "tensor([[1., 2., 3.],\n",
      "        [2., 2., 2.],\n",
      "        [3., 2., 1.]]) \n",
      " tensor([[-1.2247,  0.0000,  1.2247],\n",
      "        [ 0.0000,  0.0000,  0.0000],\n",
      "        [ 1.2247,  0.0000, -1.2247]], grad_fn=<NativeBatchNormBackward0>)\n"
     ]
    }
   ],
   "source": [
    "# batchnorm\n",
    "x = torch.FloatTensor([[1,2,3],\n",
    "                       [2,2,2],\n",
    "                       [3,2,1]])\n",
    "batchnorm = nn.BatchNorm1d(num_features=3)\n",
    "print(x, '\\n', batchnorm(x))"
   ]
  },
  {
   "cell_type": "code",
   "execution_count": 9,
   "metadata": {},
   "outputs": [
    {
     "name": "stdout",
     "output_type": "stream",
     "text": [
      "tensor([[1., 2., 3.],\n",
      "        [2., 2., 2.],\n",
      "        [3., 2., 1.]]) \n",
      " tensor([[0., 0., 0.],\n",
      "        [4., 4., 4.],\n",
      "        [6., 4., 2.]])\n"
     ]
    }
   ],
   "source": [
    "# dropout\n",
    "x = torch.FloatTensor([[1,2,3],\n",
    "                       [2,2,2],\n",
    "                       [3,2,1]])\n",
    "dropout = nn.Dropout1d(p=0.5)\n",
    "dropout.train()\n",
    "print(x, '\\n', dropout(x))"
   ]
  },
  {
   "cell_type": "code",
   "execution_count": 10,
   "metadata": {},
   "outputs": [
    {
     "name": "stdout",
     "output_type": "stream",
     "text": [
      "==========================================================================================\n",
      "Layer (type:depth-idx)                   Output Shape              Param #\n",
      "==========================================================================================\n",
      "├─Conv2d: 1-1                            [-1, 16, 64, 64]          448\n",
      "├─BatchNorm2d: 1-2                       [-1, 16, 64, 64]          32\n",
      "├─ReLU: 1-3                              [-1, 16, 64, 64]          --\n",
      "├─MaxPool2d: 1-4                         [-1, 16, 32, 32]          --\n",
      "==========================================================================================\n",
      "Total params: 480\n",
      "Trainable params: 480\n",
      "Non-trainable params: 0\n",
      "Total mult-adds (M): 1.77\n",
      "==========================================================================================\n",
      "Input size (MB): 0.05\n",
      "Forward/backward pass size (MB): 1.00\n",
      "Params size (MB): 0.00\n",
      "Estimated Total Size (MB): 1.05\n",
      "==========================================================================================\n",
      "torch.Size([64, 16, 32, 32])\n"
     ]
    }
   ],
   "source": [
    "x = torch.randn(64,3,64,64)\n",
    "\n",
    "conv_block = nn.Sequential(nn.Conv2d(in_channels=3,out_channels=16,kernel_size=(3,3),stride=(1,1),padding=(1,1)),\n",
    "                           nn.BatchNorm2d(num_features=16),\n",
    "                           nn.ReLU(inplace=True),\n",
    "                           # nn.Dropout(p=0.1),\n",
    "                           nn.MaxPool2d(kernel_size=(3,3),stride=(2,2), padding=(1,1))\n",
    ")\n",
    "\n",
    "summary(model=conv_block, input_data=(3,64,64), device='cpu')\n",
    "print(conv_block(x).shape)"
   ]
  },
  {
   "attachments": {},
   "cell_type": "markdown",
   "metadata": {},
   "source": [
    "#### Custom model 구축"
   ]
  },
  {
   "cell_type": "code",
   "execution_count": 11,
   "metadata": {},
   "outputs": [
    {
     "data": {
      "text/plain": [
       "'\\nclass CustomModel(torch.nn.Module):\\n  def __init__(self):\\n  원하는 nueral networks 모델 구조를 layer 별로 혹은 block화 하여 정의\\n\\n  def forward(self, x):\\n  __init__에서 정의한 nueral networks에 모델을 입력하여 예측값을 얻는 forward 과정\\n'"
      ]
     },
     "execution_count": 11,
     "metadata": {},
     "output_type": "execute_result"
    }
   ],
   "source": [
    "\"\"\"\n",
    "class CustomModel(torch.nn.Module):\n",
    "  def __init__(self):\n",
    "  원하는 nueral networks 모델 구조를 layer 별로 혹은 block화 하여 정의\n",
    "\n",
    "  def forward(self, x):\n",
    "  __init__에서 정의한 nueral networks에 모델을 입력하여 예측값을 얻는 forward 과정\n",
    "\"\"\""
   ]
  },
  {
   "cell_type": "code",
   "execution_count": 11,
   "metadata": {},
   "outputs": [],
   "source": [
    "class MyLeNet(nn.Module):\n",
    "    def __init__(self, num_classes=10):\n",
    "        super().__init__()\n",
    "\n",
    "        self.block1 = nn.Sequential(nn.Conv2d(in_channels=3,out_channels=6,kernel_size=(5,5),stride=(1,1),padding=(0,0)), # C1 layer\n",
    "                           # nn.BatchNorm2d(num_features=6),\n",
    "                           nn.Tanh(),\n",
    "                           # nn.Dropout(p=0.1),\n",
    "                           nn.AvgPool2d(kernel_size=(2,2),stride=(2,2), padding=(0,0))) # S2 layer\n",
    "        \n",
    "        self.block2 = nn.Sequential(nn.Conv2d(in_channels=6,out_channels=16,kernel_size=(5,5),stride=(1,1),padding=(0,0)), # C3 layer\n",
    "                           # nn.BatchNorm2d(num_features=16),\n",
    "                           nn.Tanh(),\n",
    "                           # nn.Dropout(p=0.1),\n",
    "                           nn.AvgPool2d(kernel_size=(2,2),stride=(2,2), padding=(0,0))) # S4 layer\n",
    "        \n",
    "        self.block3 = nn.Sequential(nn.Conv2d(in_channels=16,out_channels=120,kernel_size=(5,5),stride=(1,1),padding=(0,0)), # C5 layer\n",
    "                           nn.Tanh())\n",
    "        \n",
    "        self.fc1 = nn.Sequential(nn.Linear(120,84), nn.Tanh())\n",
    "        self.fc2 = nn.Linear(84,num_classes)\n",
    "        \n",
    "        self.flatten = nn.Flatten(start_dim=1, end_dim=-1)\n",
    "        self.init_weights()\n",
    "        \n",
    "    def forward(self, x):\n",
    "        # x : B, 3, 32, 32\n",
    "        out = self.block1(x) # B, 6, 14, 14\n",
    "        out = self.block2(out) # B, 16, 5, 5\n",
    "        out = self.block3(out) # B, 120, 1\n",
    "        out = self.flatten(out) # B, 120\n",
    "        out = self.fc1(out) # B, 64\n",
    "        out = self.fc2(out) # B, num_classes\n",
    "        return out\n",
    "    \n",
    "    # 모델의 파라미터를 초기화\n",
    "    def init_weights(self):\n",
    "        for m in self.modules():\n",
    "            if isinstance(m, nn.Conv2d):\n",
    "                nn.init.kaiming_normal_(m.weight,\n",
    "                                        mode='fan_out',\n",
    "                                        nonlinearity='leaky_relu')\n",
    "            elif isinstance(m, nn.BatchNorm2d):\n",
    "                nn.init.constant_(m.weight, 1.0)\n",
    "                nn.init.constant_(m.bias, 0.0)\n",
    "            elif isinstance(m, nn.Linear):\n",
    "                nn.init.xavier_normal_(m.weight)\n",
    "                nn.init.constant_(m.bias, 0.0)"
   ]
  },
  {
   "cell_type": "code",
   "execution_count": 13,
   "metadata": {},
   "outputs": [
    {
     "name": "stdout",
     "output_type": "stream",
     "text": [
      "==========================================================================================\n",
      "Layer (type:depth-idx)                   Output Shape              Param #\n",
      "==========================================================================================\n",
      "├─Sequential: 1-1                        [-1, 6, 14, 14]           --\n",
      "|    └─Conv2d: 2-1                       [-1, 6, 28, 28]           456\n",
      "|    └─Tanh: 2-2                         [-1, 6, 28, 28]           --\n",
      "|    └─AvgPool2d: 2-3                    [-1, 6, 14, 14]           --\n",
      "├─Sequential: 1-2                        [-1, 16, 5, 5]            --\n",
      "|    └─Conv2d: 2-4                       [-1, 16, 10, 10]          2,416\n",
      "|    └─Tanh: 2-5                         [-1, 16, 10, 10]          --\n",
      "|    └─AvgPool2d: 2-6                    [-1, 16, 5, 5]            --\n",
      "├─Sequential: 1-3                        [-1, 120, 1, 1]           --\n",
      "|    └─Conv2d: 2-7                       [-1, 120, 1, 1]           48,120\n",
      "|    └─Tanh: 2-8                         [-1, 120, 1, 1]           --\n",
      "├─Flatten: 1-4                           [-1, 120]                 --\n",
      "├─Sequential: 1-5                        [-1, 84]                  --\n",
      "|    └─Linear: 2-9                       [-1, 84]                  10,164\n",
      "|    └─Tanh: 2-10                        [-1, 84]                  --\n",
      "├─Linear: 1-6                            [-1, 10]                  850\n",
      "==========================================================================================\n",
      "Total params: 62,006\n",
      "Trainable params: 62,006\n",
      "Non-trainable params: 0\n",
      "Total mult-adds (M): 0.71\n",
      "==========================================================================================\n",
      "Input size (MB): 0.01\n",
      "Forward/backward pass size (MB): 0.05\n",
      "Params size (MB): 0.24\n",
      "Estimated Total Size (MB): 0.30\n",
      "==========================================================================================\n"
     ]
    },
    {
     "data": {
      "text/plain": [
       "==========================================================================================\n",
       "Layer (type:depth-idx)                   Output Shape              Param #\n",
       "==========================================================================================\n",
       "├─Sequential: 1-1                        [-1, 6, 14, 14]           --\n",
       "|    └─Conv2d: 2-1                       [-1, 6, 28, 28]           456\n",
       "|    └─Tanh: 2-2                         [-1, 6, 28, 28]           --\n",
       "|    └─AvgPool2d: 2-3                    [-1, 6, 14, 14]           --\n",
       "├─Sequential: 1-2                        [-1, 16, 5, 5]            --\n",
       "|    └─Conv2d: 2-4                       [-1, 16, 10, 10]          2,416\n",
       "|    └─Tanh: 2-5                         [-1, 16, 10, 10]          --\n",
       "|    └─AvgPool2d: 2-6                    [-1, 16, 5, 5]            --\n",
       "├─Sequential: 1-3                        [-1, 120, 1, 1]           --\n",
       "|    └─Conv2d: 2-7                       [-1, 120, 1, 1]           48,120\n",
       "|    └─Tanh: 2-8                         [-1, 120, 1, 1]           --\n",
       "├─Flatten: 1-4                           [-1, 120]                 --\n",
       "├─Sequential: 1-5                        [-1, 84]                  --\n",
       "|    └─Linear: 2-9                       [-1, 84]                  10,164\n",
       "|    └─Tanh: 2-10                        [-1, 84]                  --\n",
       "├─Linear: 1-6                            [-1, 10]                  850\n",
       "==========================================================================================\n",
       "Total params: 62,006\n",
       "Trainable params: 62,006\n",
       "Non-trainable params: 0\n",
       "Total mult-adds (M): 0.71\n",
       "==========================================================================================\n",
       "Input size (MB): 0.01\n",
       "Forward/backward pass size (MB): 0.05\n",
       "Params size (MB): 0.24\n",
       "Estimated Total Size (MB): 0.30\n",
       "=========================================================================================="
      ]
     },
     "execution_count": 13,
     "metadata": {},
     "output_type": "execute_result"
    }
   ],
   "source": [
    "summary(MyLeNet(num_classes=10), input_data=(3,32,32), device='cpu')"
   ]
  },
  {
   "cell_type": "code",
   "execution_count": 14,
   "metadata": {},
   "outputs": [
    {
     "name": "stdout",
     "output_type": "stream",
     "text": [
      "torch.Size([64, 3, 32, 32]) torch.Size([64, 10])\n"
     ]
    }
   ],
   "source": [
    "x = torch.randn(size=(64,3,32,32))\n",
    "lenet = MyLeNet()\n",
    "\n",
    "print(x.shape, lenet(x).shape)"
   ]
  },
  {
   "attachments": {},
   "cell_type": "markdown",
   "metadata": {},
   "source": [
    "#### Save & Load Model Parameters"
   ]
  },
  {
   "cell_type": "code",
   "execution_count": 15,
   "metadata": {},
   "outputs": [],
   "source": [
    "# save model parameters\n",
    "save_path = './model.pt'\n",
    "save_dict = {'model_A':lenet.state_dict(),\n",
    "             # 'model_B':lenet.state_dict(),\n",
    "             # 'optimizer':optimizer.load_state_dict(),\n",
    "             }\n",
    "\n",
    "torch.save(save_dict, save_path)"
   ]
  },
  {
   "cell_type": "code",
   "execution_count": 16,
   "metadata": {},
   "outputs": [
    {
     "data": {
      "text/plain": [
       "<All keys matched successfully>"
      ]
     },
     "execution_count": 16,
     "metadata": {},
     "output_type": "execute_result"
    }
   ],
   "source": [
    "# load model parameters\n",
    "model = MyLeNet()\n",
    "load_dict = torch.load(save_path, map_location='cpu')\n",
    "parameters = load_dict['model_A']\n",
    "model.load_state_dict(parameters,strict=False)"
   ]
  }
 ],
 "metadata": {
  "kernelspec": {
   "display_name": "py39",
   "language": "python",
   "name": "python3"
  },
  "language_info": {
   "codemirror_mode": {
    "name": "ipython",
    "version": 3
   },
   "file_extension": ".py",
   "mimetype": "text/x-python",
   "name": "python",
   "nbconvert_exporter": "python",
   "pygments_lexer": "ipython3",
   "version": "3.9.12"
  }
 },
 "nbformat": 4,
 "nbformat_minor": 2
}
